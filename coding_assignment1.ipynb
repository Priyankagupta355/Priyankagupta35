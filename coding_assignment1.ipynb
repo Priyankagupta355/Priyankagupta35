{
 "cells": [
  {
   "cell_type": "code",
   "execution_count": 1,
   "id": "005f96b8-26a8-4f20-8612-75006a3214fb",
   "metadata": {},
   "outputs": [],
   "source": [
    "import pandas as pd"
   ]
  },
  {
   "cell_type": "code",
   "execution_count": null,
   "id": "3fdc7a2a-1d1b-4610-9eb0-a4988303f62c",
   "metadata": {},
   "outputs": [],
   "source": [
    "data="
   ]
  }
 ],
 "metadata": {
  "kernelspec": {
   "display_name": "Python 3 (ipykernel)",
   "language": "python",
   "name": "python3"
  },
  "language_info": {
   "codemirror_mode": {
    "name": "ipython",
    "version": 3
   },
   "file_extension": ".py",
   "mimetype": "text/x-python",
   "name": "python",
   "nbconvert_exporter": "python",
   "pygments_lexer": "ipython3",
   "version": "3.13.5"
  }
 },
 "nbformat": 4,
 "nbformat_minor": 5
}
